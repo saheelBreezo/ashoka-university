{
 "cells": [
  {
   "cell_type": "markdown",
   "metadata": {},
   "source": [
    "# Spatial Air Quality "
   ]
  },
  {
   "cell_type": "markdown",
   "metadata": {},
   "source": [
    "## Import Libraries"
   ]
  },
  {
   "cell_type": "code",
   "execution_count": null,
   "metadata": {},
   "outputs": [],
   "source": [
    "import pandas as pd\n",
    "import numpy as np\n",
    "import requests\n",
    "import urllib.parse\n",
    "from pprint import pprint\n",
    "import matplotlib.pyplot as plt\n",
    "plt.style.use(\"fivethirtyeight\")\n",
    "plt.rcParams[\"font.family\"] = \"monospace\"\n",
    "%matplotlib inline"
   ]
  },
  {
   "cell_type": "markdown",
   "metadata": {},
   "source": [
    "## Get estimated PM2.5 for a given location using its coordinates"
   ]
  },
  {
   "cell_type": "markdown",
   "metadata": {},
   "source": [
    "**Step 1: Import Required Libraries**\n",
    "\n",
    "- After importing the necessary libraries, you will be able to fetch the PM2.5 of the given region.\n",
    "\n",
    "**Step 2: Obtain an API Key**\n",
    "   - To access our APIs, you must obtain an API key.\n",
    "   - Sign up at `www.data.blueskyhq.io` to receive an API key with the required permissions attached.\n",
    "\n",
    "**Step 3: Identify the Region of Interest**\n",
    "   - Determine which region you want to retrieve data for.\n",
    "   - You will need the latitude and longitude for the corresponding region.\n",
    "\n",
    "**Step 4: Replace the Coordinates**\n",
    "   - Once you have the latitude and longitude, replace the default coordinates in the code with the one you've obtained.\n",
    "\n",
    "**Step 5: Set the Date Range**\n",
    "   - Define the date range for the measurements you need. Specify the start and end dates accordingly.\n",
    "\n",
    "**Step 6: Run the Code**\n",
    "   - Execute the code provided, and it will fetch the PM2.5 concentration data for the specified region within the defined date range.\n",
    "\n",
    "By following these steps, you can effectively access the PM2.5 data for your chosen region using the API key you obtained."
   ]
  },
  {
   "cell_type": "code",
   "execution_count": null,
   "metadata": {},
   "outputs": [],
   "source": [
    "# API Key for accessing the data\n",
    "API_KEY = \"INSERT YOUR API KEY HERE\"\n",
    "# API endpoint or url\n",
    "API = f\"https://gateway.blueskyhq.io/api/spatial-air-quality\"\n",
    "# start date\n",
    "START_DATE = \"2023-06-01\"\n",
    "# end data\n",
    "END_DATE = \"2023-06-30\"\n",
    "TIME_BUCKET = \"1d\"\n",
    "LATITUDE = 28.5710274\n",
    "LONGITUDE = 77.0719006\n",
    "PRODUCT = \"pm25\"\n",
    "\n",
    "# requested parameters\n",
    "PARAMS = {\n",
    "    \"api-key\": API_KEY,\n",
    "    \"product\": PRODUCT,\n",
    "    \"startDate\": START_DATE,\n",
    "    \"endDate\": END_DATE,\n",
    "    \"latitude\": LATITUDE,\n",
    "    \"longitude\": LONGITUDE\n",
    "}\n",
    "\n",
    "HEADERS = {\n",
    "    \"Content-Type\": \"application/json\",\n",
    "}\n",
    "\n",
    "# api request\n",
    "response = requests.get(API, headers=HEADERS, params=urllib.parse.urlencode(PARAMS))\n",
    "if response.status_code == 200:    \n",
    "    pprint(response.json())\n",
    "else:\n",
    "    print(response.text)"
   ]
  },
  {
   "cell_type": "markdown",
   "metadata": {},
   "source": [
    "## Plot the response as a time series graph"
   ]
  },
  {
   "cell_type": "code",
   "execution_count": null,
   "metadata": {},
   "outputs": [],
   "source": [
    "import seaborn as sns\n",
    "\n",
    "# convert response json to dataframe\n",
    "df = pd.DataFrame(response.json()[\"data\"])\n",
    "# datetime string to dateime object\n",
    "df[\"datetime\"] = pd.to_datetime(df[\"datetime\"])\n",
    "df['PM25'] = df['pm25'].astype(float)\n",
    "\n",
    "fig, ax = plt.subplots(1,1, figsize=(18,9))\n",
    "# plot line chart\n",
    "sns.lineplot(df, x=\"datetime\", y=\"PM25\", ax=ax)\n",
    "# set x,y labels\n",
    "ax.set_ylabel(\"PM2.5 (ugm-3)\", fontsize=16, fontweight=\"bold\")\n",
    "ax.set_xlabel(\"Date\", fontsize=16, fontweight=\"bold\")\n",
    "ax.set_title(\"Dwarka (Sec 8), Delhi\", fontsize=44, fontweight=\"bold\", loc=\"left\")\n",
    "# font adjustments\n",
    "ax.xaxis.set_tick_params(labelsize=14)\n",
    "ax.yaxis.set_tick_params(labelsize=14)"
   ]
  },
  {
   "cell_type": "markdown",
   "metadata": {},
   "source": [
    "## Get the actual PM2.5 from ground sensor of the same location"
   ]
  },
  {
   "cell_type": "markdown",
   "metadata": {},
   "source": [
    "**Step 1: Import Required Libraries**\n",
    "\n",
    "- After importing the necessary libraries, you will be able to fetch the PM2.5 concentration of the given ground monitor.\n",
    "\n",
    "**Step 2: Obtain an API Key**\n",
    "   - To access our APIs, you must obtain an API key.\n",
    "   - Sign up at `www.data.blueskyhq.io` to receive an API key with the required permissions attached.\n",
    "\n",
    "**Step 3: Identify the Ground Monitor**\n",
    "   - Determine which ground monitor you want to retrieve data for.\n",
    "   - You will need the **asset ID** for the corresponding ground monitor.\n",
    "   - To find the asset ID, search for the monitor's name on `www.spacetime.blueskyhq.io/asset-explorer`.\n",
    "   - An asset ID is a unique identifier for the specific asset, such as a lake or a power plant.\n",
    "\n",
    "**Step 4: Replace the Asset ID**\n",
    "   - Once you have the asset ID, replace the default asset ID in the code with the one you've obtained.\n",
    "\n",
    "**Step 5: Set the Date Range**\n",
    "   - Define the date range for the measurements you need. Specify the start and end dates accordingly.\n",
    "\n",
    "**Step 6: Run the Code**\n",
    "   - Execute the code provided, and it will fetch the air quality data for the specified ground monitor within the defined date range.\n",
    "\n",
    "By following these steps, you can effectively access the air quality data for your chosen lake using the API key you obtained."
   ]
  },
  {
   "cell_type": "code",
   "execution_count": null,
   "metadata": {},
   "outputs": [],
   "source": [
    "# API Key for accessing the data\n",
    "API_KEY = \"INSERT YOUR API KEY HERE\"\n",
    "# API endpoint or url\n",
    "ASSET_ID = \"INSERT YOUR ASSET ID HERE\"\n",
    "\n",
    "API = f\"https://gateway.blueskyhq.io/api/bam-air-quality/{ASSET_ID}\"\n",
    "# start date\n",
    "START_DATE = \"2023-01-09T00:00:00.000Z\"\n",
    "# end data\n",
    "END_DATE = \"2023-06-09T00:00:00.000Z\"\n",
    "TIME_BUCKET = \"1d\"\n",
    "LATITUDE = 28.5710274\n",
    "LONGITUDE = 77.0719006\n",
    "PRODUCT = \"pm25\"\n",
    "\n",
    "# requested parameters\n",
    "PARAMS = {\n",
    "    \"start_date\": START_DATE,\n",
    "    \"end_date\": END_DATE,\n",
    "    \"time_bucket\": \"1d\"\n",
    "}\n",
    "\n",
    "HEADERS = {\n",
    "    \"Content-Type\": \"application/json\",\n",
    "}\n",
    "\n",
    "# api request\n",
    "response = requests.get(API, headers=HEADERS, params=urllib.parse.urlencode(PARAMS))\n",
    "if response.status_code == 200:    \n",
    "    pprint(response.json())\n",
    "else:\n",
    "    print(response.text)"
   ]
  },
  {
   "cell_type": "markdown",
   "metadata": {},
   "source": [
    "## Plot the response as a time series graph"
   ]
  },
  {
   "cell_type": "code",
   "execution_count": null,
   "metadata": {},
   "outputs": [],
   "source": [
    "import seaborn as sns\n",
    "\n",
    "# convert response json to dataframe\n",
    "df = pd.DataFrame(response.json()[\"data\"])\n",
    "# datetime string to dateime object\n",
    "df[\"datetime\"] = pd.to_datetime(df[\"datetime\"])\n",
    "df['PM25'] = df['pm25'].astype(float)\n",
    "\n",
    "fig, ax = plt.subplots(1,1, figsize=(18,9))\n",
    "# plot line chart\n",
    "sns.lineplot(df, x=\"datetime\", y=\"PM25\", ax=ax)\n",
    "# set x,y labels\n",
    "ax.set_ylabel(\"PM2.5 (ugm-3)\", fontsize=16, fontweight=\"bold\")\n",
    "ax.set_xlabel(\"Date\", fontsize=16, fontweight=\"bold\")\n",
    "ax.set_title(\"Dwarka (Sec 8), Delhi\", fontsize=44, fontweight=\"bold\", loc=\"left\")\n",
    "# font adjustments\n",
    "ax.xaxis.set_tick_params(labelsize=14)\n",
    "ax.yaxis.set_tick_params(labelsize=14)"
   ]
  }
 ],
 "metadata": {
  "kernelspec": {
   "display_name": "Python 3",
   "language": "python",
   "name": "python3"
  },
  "language_info": {
   "codemirror_mode": {
    "name": "ipython",
    "version": 3
   },
   "file_extension": ".py",
   "mimetype": "text/x-python",
   "name": "python",
   "nbconvert_exporter": "python",
   "pygments_lexer": "ipython3",
   "version": "3.10.12"
  }
 },
 "nbformat": 4,
 "nbformat_minor": 2
}
