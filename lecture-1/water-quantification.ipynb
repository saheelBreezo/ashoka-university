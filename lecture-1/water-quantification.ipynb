{
 "cells": [
  {
   "cell_type": "markdown",
   "metadata": {},
   "source": [
    "# Surface Water Extent Estimation"
   ]
  },
  {
   "cell_type": "markdown",
   "metadata": {},
   "source": [
    "## Import libraries"
   ]
  },
  {
   "cell_type": "code",
   "execution_count": null,
   "metadata": {},
   "outputs": [],
   "source": [
    "import pandas as pd\n",
    "import numpy as np\n",
    "import requests\n",
    "import urllib.parse\n",
    "import seaborn as sns\n",
    "from pprint import pprint\n",
    "import matplotlib.pyplot as plt\n",
    "plt.style.use(\"fivethirtyeight\")\n",
    "plt.rcParams[\"font.family\"] = \"monospace\"\n",
    "%matplotlib inline"
   ]
  },
  {
   "cell_type": "markdown",
   "metadata": {},
   "source": [
    "## Get water quantification data for lake Folsom using its asset ID"
   ]
  },
  {
   "cell_type": "markdown",
   "metadata": {},
   "source": [
    "**Step 1: Import Required Libraries**\n",
    "\n",
    "- After importing the necessary libraries, you will be able to fetch the surface water extent of the lake.\n",
    "\n",
    "**Step 2: Obtain an API Key**\n",
    "   - To access our APIs, you must obtain an API key.\n",
    "   - Sign up at `www.data.blueskyhq.io` to receive an API key with the required permissions attached.\n",
    "\n",
    "**Step 3: Identify the Lake of Interest**\n",
    "   - Determine which lake you want to retrieve data for.\n",
    "   - You will need the **asset ID** for the corresponding lake.\n",
    "   - To find the asset ID, search for the lake's name on `www.spacetime.blueskyhq.io/asset-explorer`.\n",
    "   - An asset ID is a unique identifier for the specific asset, such as a lake or a power plant.\n",
    "\n",
    "**Step 4: Replace the Asset ID**\n",
    "   - Once you have the asset ID, replace the default asset ID in the code with the one you've obtained.\n",
    "\n",
    "**Step 5: Set the Date Range**\n",
    "   - Define the date range for the measurements you need. Specify the start and end dates accordingly.\n",
    "\n",
    "**Step 6: Run the Code**\n",
    "   - Execute the code provided, and it will fetch the surface water extent data for the specified lake within the defined date range.\n",
    "\n",
    "By following these steps, you can effectively access the surface water extent data for your chosen lake using the API key you obtained."
   ]
  },
  {
   "cell_type": "code",
   "execution_count": null,
   "metadata": {},
   "outputs": [],
   "source": [
    "# API Key for accessing the data\n",
    "API_KEY = \"INSERT YOUR API KEY HERE\"\n",
    "# unique id for the asset\n",
    "ASSET_ID = \"INSERT YOUR ASSET ID HERE\"\n",
    "# API endpoint or url\n",
    "API = f\"https://gateway.blueskyhq.io/api/water-quantification/{ASSET_ID}\"\n",
    "# start date\n",
    "START_DATE = \"2022-01-09T00:00:00.000Z\"\n",
    "# end data\n",
    "END_DATE = \"2023-03-09T00:00:00.000Z\"\n",
    "TIME_BUCKET = \"1d\"\n",
    "# requested parameters\n",
    "PARAMS = {\n",
    "    \"api-key\": API_KEY,\n",
    "    \"start_date\": START_DATE,\n",
    "    \"end_date\": END_DATE,\n",
    "    \"time_bucket\": TIME_BUCKET,\n",
    "}\n",
    "HEADERS = {\n",
    "    \"Content-Type\": \"application/json\",\n",
    "}\n",
    "\n",
    "# api request\n",
    "response = requests.get(API, headers=HEADERS, params=urllib.parse.urlencode(PARAMS))\n",
    "if response.status_code == 200:    \n",
    "    pprint(response.json())\n",
    "else:\n",
    "    print(response.text)"
   ]
  },
  {
   "cell_type": "markdown",
   "metadata": {},
   "source": [
    "## Plot the response as time series graph"
   ]
  },
  {
   "cell_type": "code",
   "execution_count": null,
   "metadata": {},
   "outputs": [],
   "source": [
    "# convert response json to dataframe\n",
    "df = pd.DataFrame(response.json()[\"data\"])\n",
    "# datetime string to dateime object\n",
    "df[\"datetime\"] = pd.to_datetime(df[\"datetime\"])\n",
    "\n",
    "fig, ax = plt.subplots(1,1, figsize=(18,9))\n",
    "# plot line chart\n",
    "sns.lineplot(df, x=\"datetime\", y=\"area\", ax=ax, linestyle=\"-\", marker='o')\n",
    "# set x,y labels\n",
    "ax.set_ylabel(\"Area (km2)\", fontsize=16, fontweight=\"bold\")\n",
    "ax.set_xlabel(\"Date\", fontsize=16, fontweight=\"bold\")\n",
    "ax.set_title(\"Lake Mead, Pakistan\", fontsize=44, fontweight=\"bold\", loc=\"left\")\n",
    "# font adjustments\n",
    "ax.xaxis.set_tick_params(labelsize=14)\n",
    "ax.yaxis.set_tick_params(labelsize=14)"
   ]
  }
 ],
 "metadata": {
  "kernelspec": {
   "display_name": "Python 3",
   "language": "python",
   "name": "python3"
  },
  "language_info": {
   "codemirror_mode": {
    "name": "ipython",
    "version": 3
   },
   "file_extension": ".py",
   "mimetype": "text/x-python",
   "name": "python",
   "nbconvert_exporter": "python",
   "pygments_lexer": "ipython3",
   "version": "3.10.12"
  }
 },
 "nbformat": 4,
 "nbformat_minor": 2
}
