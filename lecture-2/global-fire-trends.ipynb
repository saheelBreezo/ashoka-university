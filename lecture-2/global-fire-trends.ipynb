{
 "cells": [
  {
   "cell_type": "markdown",
   "metadata": {},
   "source": [
    "# Global Fires Trends"
   ]
  },
  {
   "cell_type": "markdown",
   "metadata": {},
   "source": [
    "## Import libraries"
   ]
  },
  {
   "cell_type": "code",
   "execution_count": null,
   "metadata": {},
   "outputs": [],
   "source": [
    "import pandas as pd\n",
    "import numpy as np\n",
    "import requests\n",
    "import urllib.parse\n",
    "from pprint import pprint\n",
    "import matplotlib.pyplot as plt\n",
    "plt.style.use(\"fivethirtyeight\")\n",
    "plt.rcParams[\"font.family\"] = \"monospace\"\n",
    "%matplotlib inline"
   ]
  },
  {
   "cell_type": "markdown",
   "metadata": {},
   "source": [
    "## Get Fires data from API for a specific location using it shape ID"
   ]
  },
  {
   "cell_type": "markdown",
   "metadata": {},
   "source": [
    "**Step 1: Import Required Libraries**\n",
    "\n",
    "- After importing the necessary libraries, you will be able to fetch the fire events of a given location.\n",
    "\n",
    "**Step 2: Obtain an API Key**\n",
    "   - To access our APIs, you must obtain an API key.\n",
    "   - Sign up at `www.data.blueskyhq.io` to receive an API key with the required permissions attached.\n",
    "\n",
    "**Step 3: Identify the Region of Interest**\n",
    "   - Determine which region you want to retrieve data for.\n",
    "   - You will need the **shape ID** for the corresponding region.\n",
    "   - To find the shape ID, search for the region's name on `www.spacetime.blueskyhq.io/shapes`.\n",
    "   - A shape ID is a unique identifier for the specific region/shape, such India or Punjab.\n",
    "\n",
    "**Step 4: Replace the Shape ID**\n",
    "   - Once you have the shape ID, replace the default shape ID in the code with the one you've obtained.\n",
    "\n",
    "**Step 5: Specify the Admin Level Bucket**\n",
    "\n",
    "- The `adminLevelBucket` serves as a means of aggregating data according to administrative boundaries. For instance, an `adminLevelBucket` set to a value of 1 represents the country, providing a total fire count for the entire country per day. Similarly, a value of 2 represents the state, giving a total fire count per state for the country.\n",
    "\n",
    "**Step 6: Set the Date Range**\n",
    "   - Define the date range for the measurements you need. Specify the start and end dates accordingly.\n",
    "\n",
    "**Step 6: Run the Code**\n",
    "   - Execute the code provided, and it will fetch the fire count data for the specified region within the defined date range.\n",
    "\n",
    "By following these steps, you can effectively access the fire count data for your chosen region using the API key you obtained."
   ]
  },
  {
   "cell_type": "code",
   "execution_count": null,
   "metadata": {},
   "outputs": [],
   "source": [
    "# API Key for accessing the data\n",
    "API_KEY = \"INSERT YOUR API KEY HERE\"\n",
    "# unique id for the asset Punjab\n",
    "ASSET_ID = \"INSERT YOUR ASSET ID HERE\"\n",
    "# API endpoint or url\n",
    "API = f\"https://gateway.blueskyhq.io/api/fires\"\n",
    "# start date\n",
    "START_DATE = \"2022-01-01T00:00:00.000Z\"\n",
    "# end data\n",
    "END_DATE = \"2022-12-31T00:00:00.000Z\"\n",
    "# requested parameters\n",
    "PARAMS = {\n",
    "    \"api-key\": API_KEY,\n",
    "    \"shapeId\": ASSET_ID,\n",
    "    \"startDate\": START_DATE,\n",
    "    \"endDate\": END_DATE,\n",
    "    \"adminLevelBucket\": 3,\n",
    "    \"raw\": \"false\",\n",
    "    \"filter\": \"source:VIIRS\",\n",
    "}\n",
    "HEADERS = {\n",
    "    \"Content-Type\": \"application/json\",\n",
    "}\n",
    "\n",
    "# api request\n",
    "response = requests.get(API, headers=HEADERS, params=urllib.parse.urlencode(PARAMS))\n",
    "if response.status_code == 200:    \n",
    "    pprint(response.json())\n",
    "else:\n",
    "    print(response.text)"
   ]
  },
  {
   "cell_type": "markdown",
   "metadata": {},
   "source": [
    "## Plot the response as a time series data"
   ]
  },
  {
   "cell_type": "code",
   "execution_count": null,
   "metadata": {},
   "outputs": [],
   "source": [
    "import seaborn as sns\n",
    "\n",
    "# convert response json to dataframe\n",
    "df = pd.DataFrame(response.json()[\"data\"])\n",
    "# datetime string to dateime object\n",
    "df[\"datetime\"] = pd.to_datetime(df[\"datetime\"])\n",
    "\n",
    "fig, ax = plt.subplots(1,1, figsize=(18,9))\n",
    "# plot line chart\n",
    "sns.lineplot(df, x=\"datetime\", y=\"fires\", ax=ax, linestyle=\"-\", marker='o')\n",
    "# set x,y labels\n",
    "ax.set_ylabel(\"Fire Count\", fontsize=16, fontweight=\"bold\")\n",
    "ax.set_xlabel(\"Date\", fontsize=16, fontweight=\"bold\")\n",
    "ax.set_title(\"Fires in Punjab, India\", fontsize=44, fontweight=\"bold\", loc=\"left\")\n",
    "# font adjustments\n",
    "ax.xaxis.set_tick_params(labelsize=14)\n",
    "ax.yaxis.set_tick_params(labelsize=14)"
   ]
  },
  {
   "cell_type": "markdown",
   "metadata": {},
   "source": [
    "## CO2 Emissions from Fires"
   ]
  },
  {
   "cell_type": "code",
   "execution_count": null,
   "metadata": {},
   "outputs": [],
   "source": [
    "fig, ax = plt.subplots(1,1, figsize=(18,9))\n",
    "# plot line chart\n",
    "sns.lineplot(df, x=\"datetime\", y=\"co2_emission_estimate\", ax=ax, linestyle=\"-\", marker='o')\n",
    "# set x,y labels\n",
    "ax.set_ylabel(\"CO2 Emissions (tonnes)\", fontsize=16, fontweight=\"bold\")\n",
    "ax.set_xlabel(\"Date\", fontsize=16, fontweight=\"bold\")\n",
    "ax.set_title(\"Estimated CO2 emissions from fires in Punjab, India\", fontsize=32, fontweight=\"bold\", loc=\"left\")\n",
    "# font adjustments\n",
    "ax.xaxis.set_tick_params(labelsize=14)\n",
    "ax.yaxis.set_tick_params(labelsize=14)"
   ]
  }
 ],
 "metadata": {
  "kernelspec": {
   "display_name": "Python 3",
   "language": "python",
   "name": "python3"
  },
  "language_info": {
   "codemirror_mode": {
    "name": "ipython",
    "version": 3
   },
   "file_extension": ".py",
   "mimetype": "text/x-python",
   "name": "python",
   "nbconvert_exporter": "python",
   "pygments_lexer": "ipython3",
   "version": "3.10.12"
  }
 },
 "nbformat": 4,
 "nbformat_minor": 2
}
