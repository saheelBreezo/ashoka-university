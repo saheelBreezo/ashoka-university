{
 "cells": [
  {
   "cell_type": "markdown",
   "metadata": {},
   "source": [
    "# Water Extent Detection using satellite imagery"
   ]
  },
  {
   "cell_type": "markdown",
   "metadata": {},
   "source": [
    "![](images/img.png)"
   ]
  },
  {
   "cell_type": "code",
   "execution_count": null,
   "metadata": {},
   "outputs": [],
   "source": [
    "import rasterio as rio\n",
    "import geopandas as gpd\n",
    "from rasterio import features\n",
    "from rasterio.plot import show\n",
    "import matplotlib.pyplot as plt"
   ]
  },
  {
   "cell_type": "markdown",
   "metadata": {},
   "source": [
    "## Reading the data"
   ]
  },
  {
   "cell_type": "code",
   "execution_count": null,
   "metadata": {},
   "outputs": [],
   "source": [
    "FILE_PATH = \"./2018-04-06/\"\n",
    "\n",
    "# green band\n",
    "B03 = rio.open(FILE_PATH + \"B03.tiff\")\n",
    "\n",
    "# near infrared band\n",
    "B08 = rio.open(FILE_PATH + \"B08.tiff\")\n",
    "\n",
    "# true color image\n",
    "TRUE_COLOR = rio.open(FILE_PATH + \"True_color.tiff\")"
   ]
  },
  {
   "cell_type": "markdown",
   "metadata": {},
   "source": [
    "## Plotting the data for a quick preview"
   ]
  },
  {
   "cell_type": "code",
   "execution_count": null,
   "metadata": {},
   "outputs": [],
   "source": [
    "fig, (axg, axn, axrgb) = plt.subplots(1,3, figsize=(21,10))\n",
    "\n",
    "show(B03.read(1), ax=axg, title='Green channel')\n",
    "show(B08.read(1), ax=axn, title='Near Infrared channel')\n",
    "show(TRUE_COLOR.read(), adjust=True, ax=axrgb, title='True Color');"
   ]
  },
  {
   "cell_type": "markdown",
   "metadata": {},
   "source": [
    "## Estimate NDWI"
   ]
  },
  {
   "cell_type": "markdown",
   "metadata": {},
   "source": [
    "The Normalized Difference Water Index (NDWI) is used to highlight open water features in a satellite image, allowing a water body to “stand out” against the soil and vegetation.\n",
    "The NDWI, is calculated using the GREEN-NIR (visible green and near-infrared) combination, which allows it to detect subtle changes in water content of the water bodies.\n",
    "\n",
    "The NDWI index was proposed by McFeeters in 1996. Its primary use today is to detect and monitor slight changes in water content of the water bodies. Taking advantage of the NIR (near-infrared) and GREEN (visible green) spectral bands, the NDWI is capable of enhancing the water bodies in a satellite image. The downside of the index is that it is sensitive to built structures, which can lead to overestimation of water bodies."
   ]
  },
  {
   "cell_type": "markdown",
   "metadata": {},
   "source": [
    "$$NDWI = (Green - NIR) / (Green + NIR)$$"
   ]
  },
  {
   "cell_type": "code",
   "execution_count": null,
   "metadata": {},
   "outputs": [],
   "source": [
    "ndwi = (B03.read().astype(float) - B08.read().astype(float)) / (B03.read() + B08.read())"
   ]
  },
  {
   "cell_type": "code",
   "execution_count": null,
   "metadata": {},
   "outputs": [],
   "source": [
    "fig, (ax) = plt.subplots(1,1, figsize=(16,10))\n",
    "\n",
    "img = show(ndwi, ax=ax, title='NDWI', cmap= 'Blues', vmin=0, vmax=0.2)\n",
    "cbar = img.get_images()[0]\n",
    "fig.colorbar(cbar, ax=ax);"
   ]
  },
  {
   "cell_type": "markdown",
   "metadata": {},
   "source": [
    "## Generate Mask and features"
   ]
  },
  {
   "cell_type": "code",
   "execution_count": null,
   "metadata": {},
   "outputs": [],
   "source": [
    "ndwi_mask = ndwi[-1] > 0\n",
    "\n",
    "shapes = ({'properties': {'raster_value': v}, 'geometry': s}\n",
    "           for i, (s, v) in enumerate(features.shapes(ndwi_mask.astype('int16'), mask=ndwi_mask, transform=B03.transform)))"
   ]
  },
  {
   "cell_type": "code",
   "execution_count": null,
   "metadata": {},
   "outputs": [],
   "source": [
    "observed_boundary  = gpd.GeoDataFrame.from_features(list(shapes))"
   ]
  },
  {
   "cell_type": "code",
   "execution_count": null,
   "metadata": {},
   "outputs": [],
   "source": [
    "observed_boundary.crs = \"EPSG:3857\""
   ]
  },
  {
   "cell_type": "markdown",
   "metadata": {},
   "source": [
    "## Filter extracted shapes with the provided OSM polygon"
   ]
  },
  {
   "cell_type": "code",
   "execution_count": null,
   "metadata": {},
   "outputs": [],
   "source": [
    "actual_boundary = gpd.read_file(\"shape.geojson\")"
   ]
  },
  {
   "cell_type": "code",
   "execution_count": null,
   "metadata": {},
   "outputs": [],
   "source": [
    "# run spatial inner join\n",
    "filtered_boundary = gpd.sjoin(observed_boundary,actual_boundary, predicate=\"intersects\", how=\"inner\")"
   ]
  },
  {
   "cell_type": "code",
   "execution_count": null,
   "metadata": {},
   "outputs": [],
   "source": [
    "filtered_boundary.plot(facecolor='none', edgecolor='blue')"
   ]
  },
  {
   "cell_type": "markdown",
   "metadata": {},
   "source": [
    "## Plot the extracted shapes over true color images"
   ]
  },
  {
   "cell_type": "code",
   "execution_count": null,
   "metadata": {},
   "outputs": [],
   "source": [
    "fig, ax = plt.subplots(figsize=(16, 10))\n",
    "show(TRUE_COLOR.read(), transform=TRUE_COLOR.transform,adjust=True, ax=ax, title='True Color')\n",
    "actual_boundary.plot(ax=ax, facecolor='none', edgecolor='red', linewidth=1)\n",
    "filtered_boundary.plot(ax=ax, facecolor='none', edgecolor='blue', linewidth=1);"
   ]
  },
  {
   "cell_type": "markdown",
   "metadata": {},
   "source": [
    "## Calculating Area of the extracted shapes"
   ]
  },
  {
   "cell_type": "code",
   "execution_count": null,
   "metadata": {},
   "outputs": [],
   "source": [
    "## Calculating Area of the extracted shapes\n",
    "print(f\"Area of observed shape {(filtered_boundary.geometry.area.sum() / 10**6).round(2)} km2\")\n",
    "print(f\"Area of actual shape {(actual_boundary.geometry.area.sum() / 10**6).round(2)} km2\")\n",
    "print(f\"Difference (km2) {((actual_boundary.geometry.area.sum() / 10**6) - (filtered_boundary.geometry.area.sum() / 10**6)).round(2)} km2\")"
   ]
  }
 ],
 "metadata": {
  "kernelspec": {
   "display_name": "Python 3",
   "language": "python",
   "name": "python3"
  },
  "language_info": {
   "codemirror_mode": {
    "name": "ipython",
    "version": 3
   },
   "file_extension": ".py",
   "mimetype": "text/x-python",
   "name": "python",
   "nbconvert_exporter": "python",
   "pygments_lexer": "ipython3",
   "version": "3.10.12"
  }
 },
 "nbformat": 4,
 "nbformat_minor": 2
}
