{
  "cells": [
    {
      "cell_type": "markdown",
      "metadata": {
        "id": "0xeW-xU84Lzt"
      },
      "source": [
        "# Analysing Fires data from NASA FIRMS"
      ]
    },
    {
      "cell_type": "markdown",
      "metadata": {
        "id": "ZZqg8p0rz55E"
      },
      "source": [
        "## About NASA FIRMS\n",
        "\n",
        "The **Fire Information for Resource Management System (FIRMS)** provides access, with minimal delay, to satellite imagery, **active fire/hotspots**, and related products to identify the **location** and **intensity** of wildfire activity. FIRMS tools and applications provide geospatial data, products and services to support the broader fire management community, and to inform the general public. Global data are available within 3 hours of satellite observation; U.S. and Canada active fire detections are available in real-time.\n",
        "\n"
      ]
    },
    {
      "cell_type": "markdown",
      "metadata": {
        "id": "2EVNP4-C4TkA"
      },
      "source": [
        "## What dataset it provides ?"
      ]
    },
    {
      "cell_type": "markdown",
      "metadata": {
        "id": "EMYsxWn4-__b"
      },
      "source": [
        "Fires data from below satellites\n",
        "1. MODIS (since 2000) at 1km spatial resolution\n",
        "2. SNPP VIIRS (since 2012) at 375m spatial resolution\n",
        "3. NOAA VIIRS (since 2021) at 375 spatial resolution\n"
      ]
    },
    {
      "cell_type": "markdown",
      "metadata": {
        "id": "e2ZBYyrD4akR"
      },
      "source": [
        "## Getting data from NASA FIRMS"
      ]
    },
    {
      "cell_type": "markdown",
      "metadata": {
        "id": "x-eVLdl7Np8j"
      },
      "source": [
        "Just uncomment the below \"wget command\" and run the cell"
      ]
    },
    {
      "cell_type": "code",
      "execution_count": null,
      "metadata": {
        "colab": {
          "base_uri": "https://localhost:8080/"
        },
        "id": "flXjAqG5--Pr",
        "outputId": "5d48d464-285a-4c57-b4b0-9cf64ce65483"
      },
      "outputs": [],
      "source": [
        "# let's download VIIRS SNPP fires data for United States of America for 2019\n",
        "\n",
        "!wget https://firms.modaps.eosdis.nasa.gov/data/country/viirs-snpp/2019/viirs-snpp_2019_United_States.csv"
      ]
    },
    {
      "cell_type": "markdown",
      "metadata": {
        "id": "t2Wk_rQ__7Yq"
      },
      "source": [
        "## Load the data"
      ]
    },
    {
      "cell_type": "code",
      "execution_count": null,
      "metadata": {
        "colab": {
          "base_uri": "https://localhost:8080/"
        },
        "id": "l1TsvEqqAgun",
        "outputId": "671ece84-d2a5-40ec-deed-6897e06d6bd5"
      },
      "outputs": [],
      "source": [
        "# !pip3 install rasterio -q\n",
        "!apt install gdal-bin python3-gdal --quiet"
      ]
    },
    {
      "cell_type": "code",
      "execution_count": null,
      "metadata": {
        "id": "3sZQa88f_6sU"
      },
      "outputs": [],
      "source": [
        "import pandas as pd\n",
        "import numpy as np\n",
        "import math\n",
        "from scipy.stats import mode\n",
        "from osgeo import gdal\n",
        "import matplotlib.pyplot as plt\n",
        "from shapely.geometry import Point\n",
        "%matplotlib inline"
      ]
    },
    {
      "cell_type": "code",
      "execution_count": null,
      "metadata": {
        "colab": {
          "base_uri": "https://localhost:8080/",
          "height": 206
        },
        "id": "C4YgnUayAnQG",
        "outputId": "2c247541-03e9-4e49-8a57-c281448e478c"
      },
      "outputs": [],
      "source": [
        "df = pd.read_csv(\"https://firms.modaps.eosdis.nasa.gov/data/country/viirs-snpp/2019/viirs-snpp_2019_United_States.csv\")\n",
        "df.head()"
      ]
    },
    {
      "cell_type": "code",
      "execution_count": null,
      "metadata": {
        "colab": {
          "base_uri": "https://localhost:8080/",
          "height": 492
        },
        "id": "4vVYmIBVA20H",
        "outputId": "26b50c67-b9ae-4a5a-f87c-fea91a026d09"
      },
      "outputs": [],
      "source": [
        "# plotting fires based on when they were captured and their confidence flag\n",
        "df.groupby([\"daynight\"])[\"confidence\"].value_counts().plot(kind=\"bar\")"
      ]
    },
    {
      "cell_type": "markdown",
      "metadata": {
        "id": "xcw7Q_CkKjhs"
      },
      "source": [
        "* Please note use of \"confidence\" flag are subjective for example if you're working with agricultural sector most of the crop fires fall within nominal and low confidence. While if you're focussed on major wildfires they fall between high and nominal confidence."
      ]
    },
    {
      "cell_type": "markdown",
      "metadata": {
        "id": "C7Cshvil4h4f"
      },
      "source": [
        "## Monitoring fires over time"
      ]
    },
    {
      "cell_type": "code",
      "execution_count": null,
      "metadata": {
        "id": "Gq1aqo8rA0nf"
      },
      "outputs": [],
      "source": [
        "# Convert the 'datetime' column to a datetime object if it's not already\n",
        "df['datetime'] = pd.to_datetime(df['acq_date'])\n",
        "\n",
        "df[\"month\"] = df[\"datetime\"].dt.month\n",
        "df[\"week\"] = df['datetime'].dt.isocalendar().week\n",
        "\n",
        "# Group by month and count the number of fires\n",
        "monthly_counts = df.groupby(\"month\").size()\n",
        "\n",
        "# Group by week and count the number of fires\n",
        "weekly_counts = df.groupby(\"week\").size()"
      ]
    },
    {
      "cell_type": "code",
      "execution_count": null,
      "metadata": {
        "colab": {
          "base_uri": "https://localhost:8080/",
          "height": 722
        },
        "id": "ecZIPiUNM99G",
        "outputId": "cd79a6a8-7776-47d0-ee52-594c6c93e4c1"
      },
      "outputs": [],
      "source": [
        "# Plotting\n",
        "fig, ax = plt.subplots(1, 1, figsize=(12, 8))\n",
        "\n",
        "# Plotting monthly counts\n",
        "monthly_counts.plot(kind='bar', ax=ax, color='skyblue')\n",
        "ax.set_ylabel('Number of Fires', fontweight=\"bold\")\n",
        "ax.set_xlabel('Months', fontweight=\"bold\")\n",
        "ax.set_title('Monthly Fire Counts', fontweight=\"bold\")\n",
        "plt.show()"
      ]
    },
    {
      "cell_type": "code",
      "execution_count": null,
      "metadata": {
        "colab": {
          "base_uri": "https://localhost:8080/",
          "height": 722
        },
        "id": "FHiXxoDkNINN",
        "outputId": "38305465-e835-4ccd-d221-5bee816c412a"
      },
      "outputs": [],
      "source": [
        "fig, ax = plt.subplots(1, 1, figsize=(15, 8))\n",
        "\n",
        "# Plotting weekly counts\n",
        "weekly_counts.plot(kind='bar', ax=ax, color='skyblue')\n",
        "ax.set_ylabel('Number of Fires', fontweight=\"bold\")\n",
        "ax.set_xlabel('Weeks', fontweight=\"bold\")\n",
        "ax.set_title('Weekly Fire Counts', fontweight=\"bold\")\n",
        "plt.show()"
      ]
    },
    {
      "cell_type": "markdown",
      "metadata": {
        "id": "fiPwdMNvOkTa"
      },
      "source": [
        "## Plotting Fire Radiative Power of these fires"
      ]
    },
    {
      "cell_type": "code",
      "execution_count": null,
      "metadata": {
        "colab": {
          "base_uri": "https://localhost:8080/",
          "height": 718
        },
        "id": "vm8h2qzlOi64",
        "outputId": "b75a3a41-4f02-436a-87ac-a48d26d78c48"
      },
      "outputs": [],
      "source": [
        "# Plotting\n",
        "fig, ax = plt.subplots(1, 1, figsize=(12, 8))\n",
        "\n",
        "# Plotting monthly counts\n",
        "df.groupby(\"week\")[\"frp\"].mean().plot(kind='line', ax=ax, color='skyblue')\n",
        "ax.set_ylabel('Fire Radiative Power (MW)', fontweight=\"bold\")\n",
        "ax.set_xlabel('Weeks', fontweight=\"bold\")\n",
        "ax.set_title('Weekly Fire Counts', fontweight=\"bold\")\n",
        "plt.show()"
      ]
    },
    {
      "cell_type": "markdown",
      "metadata": {
        "id": "8SNn6EP94ziD"
      },
      "source": [
        "## Adding vegetation types to fires"
      ]
    },
    {
      "cell_type": "markdown",
      "metadata": {
        "id": "I-KkAT2ecOum"
      },
      "source": [
        "### How to look to landcover\n",
        "\n",
        "Landcover data is generally available in the form of image where each pixel has a associated discreate number like 1 or 7 representing landcover class it belongs to like cropland or forest etc. Most landcover data covers major landcover class like Forest, Cropland, Shrubland, Grassland, Water, Snow/Ice, Wetland etc. In some case they also provide classes within a landcover like Forest 1, Forest 2 based on tree density, crown, height etc useful for different application. For identifying landcover for fires you can just group them into individual parent class.\n",
        "\n",
        "Available Sources of Landcover\n",
        "1. [ESA Landcover 300m from 1992 to 2019](https://cds.climate.copernicus.eu/cdsapp#!/dataset/satellite-land-cover?tab=form)\n",
        "2. [ESA Landcover 100m from 2015 to 2019](https://land.copernicus.eu/global/products/lc), use the zenode link.\n",
        "3. [ESA Landcover 10m from 2020 to 2021](https://esa-worldcover.org/en)\n",
        "\n"
      ]
    },
    {
      "cell_type": "code",
      "execution_count": null,
      "metadata": {
        "id": "TsLtzcUPzuKH"
      },
      "outputs": [],
      "source": [
        "# source https://zenodo.org/records/3939050\n",
        "!wget https://zenodo.org/records/3939050/files/PROBAV_LC100_global_v3.0.1_2019-nrt_Discrete-Classification-map_EPSG-4326.tif -q"
      ]
    },
    {
      "cell_type": "code",
      "execution_count": null,
      "metadata": {
        "id": "WLAZ4pkyPZKT"
      },
      "outputs": [],
      "source": [
        "landcover_mapping = {\n",
        "  111:\"Forest\",\n",
        "  112:\"Forest\",\n",
        "  113:\"Forest\",\n",
        "  114:\"Forest\",\n",
        "  115:\"Forest\",\n",
        "  116:\"Forest\",\n",
        "  121:\"Forest\",\n",
        "  122:\"Forest\",\n",
        "  123:\"Forest\",\n",
        "  124:\"Forest\",\n",
        "  125:\"Forest\",\n",
        "  126:\"Forest\",\n",
        "  20:\"Shrubland\",\n",
        "  30:\"Grassland\",\n",
        "  40:\"Cropland\",\n",
        "  90:\"Peatland\"\n",
        "}"
      ]
    },
    {
      "cell_type": "code",
      "execution_count": null,
      "metadata": {
        "id": "AbFY_zVq5hpi"
      },
      "outputs": [],
      "source": [
        "def get_window(latitude, longitude, dataset):\n",
        "    \"\"\"\n",
        "    Gets the closest index to a given lat, lon\n",
        "    :param latitude: latitude\n",
        "    :param longitude: longitude\n",
        "    :param dataset: landcover dataset\n",
        "    :return: list\n",
        "    \"\"\"\n",
        "    xmin, xres, xskew, ymax, yskew, yres = dataset.GetGeoTransform()\n",
        "    window = [\n",
        "        math.floor((longitude - xmin) / xres),\n",
        "        math.floor((latitude - ymax) / yres),\n",
        "    ]\n",
        "    return window\n",
        "\n",
        "\n",
        "def get_raster_value(latitude, longitude, dataset, window_size=1):\n",
        "    \"\"\"\n",
        "    Gets the raster value on a given lat, lon\n",
        "    :param latitude: latitude\n",
        "    :param longitude: longitude\n",
        "    :param dataset: landcover dataset\n",
        "    :return: indices\n",
        "    \"\"\"\n",
        "    window = get_window(latitude, longitude, dataset)\n",
        "    raster_array = dataset.ReadAsArray(window[0] - window_size//2, window[1] - window_size//2, window_size, window_size)\n",
        "    mode_value = mode(raster_array, axis=None).mode\n",
        "    if mode_value is None:\n",
        "        return 0\n",
        "    return mode_value"
      ]
    },
    {
      "cell_type": "code",
      "execution_count": null,
      "metadata": {
        "id": "gLZg4RpjdmXA"
      },
      "outputs": [],
      "source": [
        "# Get the landcover class for each coordinate\n",
        "dataset = gdal.Open('/content/PROBAV_LC100_global_v3.0.1_2019-nrt_Discrete-Classification-map_EPSG-4326.tif')\n",
        "df['landcover_class'] = [get_raster_value(lat, lon, dataset) for lat, lon in zip(df['latitude'], df['longitude'])]\n",
        "dataset = None"
      ]
    },
    {
      "cell_type": "code",
      "execution_count": null,
      "metadata": {
        "id": "kpYoSsdJ5eWR"
      },
      "outputs": [],
      "source": [
        "df[\"landcover_name\"] = df[\"landcover_class\"].apply(lambda x: landcover_mapping[x] if x in landcover_mapping else np.NaN)"
      ]
    },
    {
      "cell_type": "markdown",
      "metadata": {
        "id": "k_gniUMJ5i9l"
      },
      "source": [
        "## Estimates fire counts per vegetation types"
      ]
    },
    {
      "cell_type": "code",
      "execution_count": null,
      "metadata": {
        "colab": {
          "base_uri": "https://localhost:8080/",
          "height": 775
        },
        "id": "EFIkw3WcSmQf",
        "outputId": "151f7c48-2f68-43d2-ad71-1f88a7bb3036"
      },
      "outputs": [],
      "source": [
        "# Group by month and count the number of fires\n",
        "fires_per_landcover = df.groupby(\"landcover_name\").size()\n",
        "\n",
        "\n",
        "# Plotting\n",
        "fig, ax = plt.subplots(1, 1, figsize=(12, 8))\n",
        "\n",
        "# Plotting monthly counts\n",
        "fires_per_landcover.plot(kind='bar', ax=ax, color='skyblue')\n",
        "ax.set_ylabel('Number of Fires', fontweight=\"bold\")\n",
        "ax.set_xlabel('Landcover', fontweight=\"bold\")\n",
        "ax.set_title('Fire Counts based on vegetation type', fontweight=\"bold\")\n",
        "plt.show()"
      ]
    },
    {
      "cell_type": "markdown",
      "metadata": {
        "id": "qDk_5bDkcigF"
      },
      "source": [
        "## Plotting Vegetation Fires over time"
      ]
    },
    {
      "cell_type": "code",
      "execution_count": null,
      "metadata": {
        "colab": {
          "base_uri": "https://localhost:8080/",
          "height": 722
        },
        "id": "Idfb3Vijcprs",
        "outputId": "630d6c4d-507e-43a6-9300-09e4671106d3"
      },
      "outputs": [],
      "source": [
        "forest_fires_per_week = df[df[\"landcover_name\"]==\"Forest\"].groupby(\"week\").size()\n",
        "\n",
        "fig, ax = plt.subplots(1, 1, figsize=(15, 8))\n",
        "\n",
        "# Plotting weekly counts\n",
        "forest_fires_per_week.plot(kind='bar', ax=ax, color='skyblue')\n",
        "ax.set_ylabel('Number of Forest Fires', fontweight=\"bold\")\n",
        "ax.set_xlabel('Weeks', fontweight=\"bold\")\n",
        "ax.set_title('Weekly Fire Counts', fontweight=\"bold\")\n",
        "plt.show()"
      ]
    },
    {
      "cell_type": "code",
      "execution_count": null,
      "metadata": {
        "colab": {
          "base_uri": "https://localhost:8080/",
          "height": 722
        },
        "id": "zp-tZ78EenLR",
        "outputId": "52a7d9e6-2fcc-4673-bbcd-a8b1ad3a8e4f"
      },
      "outputs": [],
      "source": [
        "forest_fires_per_week = df[df[\"landcover_name\"]==\"Cropland\"].groupby(\"week\").size()\n",
        "\n",
        "fig, ax = plt.subplots(1, 1, figsize=(15, 8))\n",
        "\n",
        "# Plotting weekly counts\n",
        "forest_fires_per_week.plot(kind='bar', ax=ax, color='skyblue')\n",
        "ax.set_ylabel('Number of Crop Fires', fontweight=\"bold\")\n",
        "ax.set_xlabel('Weeks', fontweight=\"bold\")\n",
        "ax.set_title('Weekly Fire Counts', fontweight=\"bold\")\n",
        "plt.show()"
      ]
    },
    {
      "cell_type": "markdown",
      "metadata": {
        "id": "cRAOljumbcUj"
      },
      "source": [
        "## Plotting Fires on Map"
      ]
    },
    {
      "cell_type": "code",
      "execution_count": null,
      "metadata": {
        "id": "uxbEqsQrbbCf"
      },
      "outputs": [],
      "source": [
        "import geopandas as gpd"
      ]
    },
    {
      "cell_type": "code",
      "execution_count": null,
      "metadata": {
        "id": "yItEmpbucXjG"
      },
      "outputs": [],
      "source": [
        "#!wget https://www2.census.gov/geo/tiger/GENZ2018/shp/cb_2018_us_state_5m.zip"
      ]
    },
    {
      "cell_type": "code",
      "execution_count": null,
      "metadata": {
        "colab": {
          "base_uri": "https://localhost:8080/"
        },
        "id": "oIZ_QhHyckOJ",
        "outputId": "4f298c26-6fda-48f3-d71a-b6f5ee9c4e9a"
      },
      "outputs": [],
      "source": [
        "!unzip /content/cb_2018_us_state_5m.zip -d ./"
      ]
    },
    {
      "cell_type": "code",
      "execution_count": null,
      "metadata": {
        "colab": {
          "base_uri": "https://localhost:8080/",
          "height": 206
        },
        "id": "75-qoawccpgS",
        "outputId": "7536b3d5-f8fa-4e6a-af4d-30cc1c28cd0c"
      },
      "outputs": [],
      "source": [
        "gdf_usa = gpd.read_file(\"./cb_2018_us_state_5m.shp\")\n",
        "gdf_usa = gdf_usa.to_crs(\"EPSG:4326\")\n",
        "gdf_usa.head()"
      ]
    },
    {
      "cell_type": "code",
      "execution_count": null,
      "metadata": {
        "colab": {
          "base_uri": "https://localhost:8080/",
          "height": 81
        },
        "id": "zIiHodJBcwCY",
        "outputId": "aff57a77-bbde-46d7-e728-fc9214c01313"
      },
      "outputs": [],
      "source": [
        "gdf_california = gdf_usa[gdf_usa[\"NAME\"]==\"California\"]\n",
        "gdf_california"
      ]
    },
    {
      "cell_type": "code",
      "execution_count": null,
      "metadata": {
        "id": "JMBo62b7dAA6"
      },
      "outputs": [],
      "source": [
        "geometry = [Point(xy) for xy in zip(df.longitude, df.latitude)]\n",
        "gdf = gpd.GeoDataFrame(df, crs=\"EPSG:4326\", geometry=geometry)"
      ]
    },
    {
      "cell_type": "code",
      "execution_count": null,
      "metadata": {
        "id": "CxmoBdQufM5n"
      },
      "outputs": [],
      "source": [
        "gdf_california_fires = gpd.sjoin(gdf, gdf_california, how=\"inner\", predicate=\"within\")"
      ]
    },
    {
      "cell_type": "code",
      "execution_count": null,
      "metadata": {
        "colab": {
          "base_uri": "https://localhost:8080/",
          "height": 807
        },
        "id": "bCIJ3r19gSPl",
        "outputId": "d1a34cbf-d9be-4dd3-ff21-caa1eac88e68"
      },
      "outputs": [],
      "source": [
        "# Plot California shape\n",
        "fig, ax = plt.subplots(figsize=(16, 10))\n",
        "ax = gdf_california.plot(\n",
        "    edgecolor='#64513B',\n",
        "    facecolor='none',\n",
        "    ax=ax)\n",
        "\n",
        "gdf_california_fires.plot(\n",
        "    markersize=gdf_california_fires['frp'],\n",
        "    column='landcover_name',\n",
        "    categorical=True,\n",
        "    legend=True,\n",
        "    ax=ax,\n",
        "    alpha=0.5\n",
        ")\n",
        "\n",
        "ax.set_axis_off()\n",
        "plt.show()"
      ]
    }
  ],
  "metadata": {
    "colab": {
      "provenance": []
    },
    "kernelspec": {
      "display_name": "Python 3",
      "name": "python3"
    },
    "language_info": {
      "name": "python"
    }
  },
  "nbformat": 4,
  "nbformat_minor": 0
}
